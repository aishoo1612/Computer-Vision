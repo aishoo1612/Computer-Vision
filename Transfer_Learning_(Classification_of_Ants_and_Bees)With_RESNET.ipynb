{
  "nbformat": 4,
  "nbformat_minor": 0,
  "metadata": {
    "colab": {
      "name": "Transfer Learning (Classification of Ants and Bees)With RESNET",
      "provenance": [],
      "authorship_tag": "ABX9TyMAEJsucS4fVI/Ce9OiPjiH",
      "include_colab_link": true
    },
    "kernelspec": {
      "name": "python3",
      "display_name": "Python 3"
    }
  },
  "cells": [
    {
      "cell_type": "markdown",
      "metadata": {
        "id": "view-in-github",
        "colab_type": "text"
      },
      "source": [
        "<a href=\"https://colab.research.google.com/github/aishoo1612/Computer-Vision/blob/master/Transfer_Learning_(Classification_of_Ants_and_Bees)With_RESNET.ipynb\" target=\"_parent\"><img src=\"https://colab.research.google.com/assets/colab-badge.svg\" alt=\"Open In Colab\"/></a>"
      ]
    },
    {
      "cell_type": "code",
      "metadata": {
        "id": "h5swAY94gHq-",
        "colab_type": "code",
        "colab": {}
      },
      "source": [
        "import os\n",
        "import torch \n",
        "import torch.nn as nn \n",
        "import torchvision \n",
        "from torchvision import transforms, datasets, models\n",
        "import torch.optim as optim \n",
        "import matplotlib.pyplot as plt \n",
        "\n"
      ],
      "execution_count": 2,
      "outputs": []
    },
    {
      "cell_type": "code",
      "metadata": {
        "id": "qdEOI55xh6VC",
        "colab_type": "code",
        "colab": {}
      },
      "source": [
        "def set_para_requires_grad( model, extracting):\n",
        "  if extracting:\n",
        "    for param in model.parameters():\n",
        "      param.requires_grad = False \n",
        "      \n"
      ],
      "execution_count": 3,
      "outputs": []
    },
    {
      "cell_type": "code",
      "metadata": {
        "id": "71yKKLjticQt",
        "colab_type": "code",
        "colab": {
          "base_uri": "https://localhost:8080/",
          "height": 134
        },
        "outputId": "24a5d7c2-b4ef-409a-a7fa-12b59e0d578a"
      },
      "source": [
        "def train_model(model, data_loaders, criterion, optimizer, epochs=25 ):\n",
        "  for epoch in range(epochs):\n",
        "    print('Epochs-%d', epoch)\n",
        "    print('-'*15)\n",
        "\n",
        "    for phase in ['train', 'val']:\n",
        "      if phase == 'train':\n",
        "        model.train()\n",
        "      else :\n",
        "        model.eval()\n",
        "\n",
        "    running_loss = 0.0\n",
        "    correct_guess = 0\n",
        "\n",
        "\n",
        "    for inputs, labels in data_loader[phase]:\n",
        "      inputs = inputs.to(device)\n",
        "      labels = labels.to(device)\n",
        "\n",
        "\n",
        "      optimizer.zero_grad()\n",
        "\n",
        "      with torch.set_grad_enabled(phase == 'train'):\n",
        "        outputs = model(inputs)\n",
        "        loss = criterion(outputs, labels)\n",
        "\n",
        "\n",
        "        _, preds = torch.max(outputs, 1)\n",
        "\n",
        "        if phase == 'train':\n",
        "          loss.backward()\n",
        "          optimizer.step()\n",
        "\n",
        "        running_loss += loss.item() * inputs.size(0)\n",
        "        correct_guess += torch.sum(preds == labels.data)\n",
        "\n",
        "      epoch_loss = running_loss/len(data_loaders[phase].dataset)\n",
        "      epoch_acc = correct_guess.double()/len(data_loaders[phase].dataset)\n",
        "\n",
        "      print('{} Loss: {.4f}, {} Acc : {.4f}'.format(phase, epoch_loss, epoch_acc))\n",
        "\n",
        "root_dir = 'hymenopetra_data/'\n",
        "\n",
        "\n",
        "image_transforms ={\n",
        "      'train' : transforms.Compose([transforms.RandomRotation(-270, 270),\n",
        "                transforms.Resize(224,224)\n",
        "                transforms.ToTensor(),\n",
        "                transforms.Normalize(mean = [0.485, 0.456, 0.406],std = [0.229, 0.225, 0.224])]),\n",
        "      'val' :   transforms.Compose([transforms.RandomRotation(-270, 270),\n",
        "                transforms.Resize(224,224)\n",
        "                transforms.ToTensor(),\n",
        "                transforms.Normalize(mean = [0.485, 0.456, 0.406],std = [0.229, 0.225, 0.224])]),\n",
        "\n",
        "  }\n",
        "\n",
        "data_generator = {k:datasets.ImageFolder(os.path.join(root_dir, k), image_transforms[k] for k in ['train','val'])}\n",
        "\n",
        "data_loader = {k:torch.utils.data.DataLoader(data_generator[k], batch_size =2, shuffle= True, num_workers=4) for k in ['train', 'val']}\n",
        "\n",
        "device = torch.device('cuda : 0' if torch.cuda.is.available() else 'cpu')\n",
        "\n",
        "model = models.resnet18(pretrained=True)\n",
        "\n",
        "set_para_requires_grad(model, True)\n",
        "\n",
        "num_features = model.fc.in_features\n",
        "model.fc = nn.Linear(features, 2)\n",
        "\n",
        "model.to(device)\n",
        "\n",
        "criterion = nn.CrossEntropyLoss()\n",
        "\n",
        "optimizer = optim.Adam(model.parameters, lr =0.001)\n",
        "\n",
        "params_to_update = []\n",
        "\n",
        "for name, param in model.named_parameters:\n",
        "  if param.requires_grad == True:\n",
        "    params_to_update.append(param)\n",
        "    print(\"\\t\",name)\n",
        "\n",
        "\n",
        "\n",
        "train_model(model, data_loader, criterion, optimizer)\n",
        "\n",
        "\n",
        "\n",
        "\n",
        "\n",
        "\n",
        "\n",
        "\n",
        "\n"
      ],
      "execution_count": 5,
      "outputs": [
        {
          "output_type": "error",
          "ename": "SyntaxError",
          "evalue": "ignored",
          "traceback": [
            "\u001b[0;36m  File \u001b[0;32m\"<ipython-input-5-a0f7df6dbf89>\"\u001b[0;36m, line \u001b[0;32m48\u001b[0m\n\u001b[0;31m    transforms.ToTensor(),\u001b[0m\n\u001b[0m             ^\u001b[0m\n\u001b[0;31mSyntaxError\u001b[0m\u001b[0;31m:\u001b[0m invalid syntax\n"
          ]
        }
      ]
    },
    {
      "cell_type": "code",
      "metadata": {
        "id": "N6ZKBZ0ZwGdn",
        "colab_type": "code",
        "colab": {}
      },
      "source": [
        ""
      ],
      "execution_count": null,
      "outputs": []
    }
  ]
}