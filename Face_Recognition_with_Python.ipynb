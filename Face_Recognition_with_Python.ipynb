{
  "nbformat": 4,
  "nbformat_minor": 0,
  "metadata": {
    "colab": {
      "name": "Face Recognition with Python",
      "provenance": [],
      "authorship_tag": "ABX9TyPJmK8SlP14ZnjpX/oYjf7+"
    },
    "kernelspec": {
      "name": "python3",
      "display_name": "Python 3"
    },
    "accelerator": "GPU"
  },
  "cells": [
    {
      "cell_type": "code",
      "metadata": {
        "id": "gKG1FPEB6C1L",
        "colab_type": "code",
        "colab": {
          "base_uri": "https://localhost:8080/",
          "height": 318
        },
        "outputId": "01b93522-460e-499b-96b1-3938d00f445d"
      },
      "source": [
        "!pip install face_recognition"
      ],
      "execution_count": 2,
      "outputs": [
        {
          "output_type": "stream",
          "text": [
            "Collecting face_recognition\n",
            "  Downloading https://files.pythonhosted.org/packages/1e/95/f6c9330f54ab07bfa032bf3715c12455a381083125d8880c43cbe76bb3d0/face_recognition-1.3.0-py2.py3-none-any.whl\n",
            "Requirement already satisfied: Pillow in /usr/local/lib/python3.6/dist-packages (from face_recognition) (7.0.0)\n",
            "Requirement already satisfied: dlib>=19.7 in /usr/local/lib/python3.6/dist-packages (from face_recognition) (19.18.0)\n",
            "Requirement already satisfied: numpy in /usr/local/lib/python3.6/dist-packages (from face_recognition) (1.18.5)\n",
            "Collecting face-recognition-models>=0.3.0\n",
            "\u001b[?25l  Downloading https://files.pythonhosted.org/packages/cf/3b/4fd8c534f6c0d1b80ce0973d01331525538045084c73c153ee6df20224cf/face_recognition_models-0.3.0.tar.gz (100.1MB)\n",
            "\u001b[K     |████████████████████████████████| 100.2MB 109kB/s \n",
            "\u001b[?25hRequirement already satisfied: Click>=6.0 in /usr/local/lib/python3.6/dist-packages (from face_recognition) (7.1.2)\n",
            "Building wheels for collected packages: face-recognition-models\n",
            "  Building wheel for face-recognition-models (setup.py) ... \u001b[?25l\u001b[?25hdone\n",
            "  Created wheel for face-recognition-models: filename=face_recognition_models-0.3.0-py2.py3-none-any.whl size=100566172 sha256=2f310a8e8e7915d71a76716ecf867d5e7d864e1bf140361abed3ff9146fd6396\n",
            "  Stored in directory: /root/.cache/pip/wheels/d2/99/18/59c6c8f01e39810415c0e63f5bede7d83dfb0ffc039865465f\n",
            "Successfully built face-recognition-models\n",
            "Installing collected packages: face-recognition-models, face-recognition\n",
            "Successfully installed face-recognition-1.3.0 face-recognition-models-0.3.0\n"
          ],
          "name": "stdout"
        }
      ]
    },
    {
      "cell_type": "code",
      "metadata": {
        "id": "clSYI8xZ6tul",
        "colab_type": "code",
        "colab": {
          "base_uri": "https://localhost:8080/",
          "height": 125
        },
        "outputId": "fcacdcb2-328d-41cf-8b7b-08dbc0eb9ee2"
      },
      "source": [
        "from google.colab import drive\n",
        "drive.mount('/content/gdrive')"
      ],
      "execution_count": 3,
      "outputs": [
        {
          "output_type": "stream",
          "text": [
            "Go to this URL in a browser: https://accounts.google.com/o/oauth2/auth?client_id=947318989803-6bn6qk8qdgf4n4g3pfee6491hc0brc4i.apps.googleusercontent.com&redirect_uri=urn%3aietf%3awg%3aoauth%3a2.0%3aoob&response_type=code&scope=email%20https%3a%2f%2fwww.googleapis.com%2fauth%2fdocs.test%20https%3a%2f%2fwww.googleapis.com%2fauth%2fdrive%20https%3a%2f%2fwww.googleapis.com%2fauth%2fdrive.photos.readonly%20https%3a%2f%2fwww.googleapis.com%2fauth%2fpeopleapi.readonly\n",
            "\n",
            "Enter your authorization code:\n",
            "··········\n",
            "Mounted at /content/gdrive\n"
          ],
          "name": "stdout"
        }
      ]
    },
    {
      "cell_type": "code",
      "metadata": {
        "id": "uOpvVFoS9wjg",
        "colab_type": "code",
        "colab": {}
      },
      "source": [
        "import face_recognition\n",
        "import os\n",
        "import cv2\n"
      ],
      "execution_count": 6,
      "outputs": []
    },
    {
      "cell_type": "code",
      "metadata": {
        "id": "R0lm6RolACVe",
        "colab_type": "code",
        "colab": {
          "base_uri": "https://localhost:8080/",
          "height": 34
        },
        "outputId": "2a95a4f2-67e4-4d98-9437-676fdd24d102"
      },
      "source": [
        "KNOWN_FACES_DIR = \"/content/gdrive/My Drive/known images\"\n",
        "UNKNOWN_FACES_DIR = \"/content/gdrive/My Drive/unknown images\"\n",
        "TOLERANCE = 0.6 \n",
        "FRAME_THICKNESS = 3\n",
        "FONT_THICKNESS= 2\n",
        "MODEL = \"cnn\"\n",
        "\n",
        "print(\"Loading known Images\")"
      ],
      "execution_count": 8,
      "outputs": [
        {
          "output_type": "stream",
          "text": [
            "Loading known Images\n"
          ],
          "name": "stdout"
        }
      ]
    },
    {
      "cell_type": "code",
      "metadata": {
        "id": "6l4Ggn7HAl4t",
        "colab_type": "code",
        "colab": {}
      },
      "source": [
        "known_faces = []\n",
        "known_names = []"
      ],
      "execution_count": 9,
      "outputs": []
    },
    {
      "cell_type": "code",
      "metadata": {
        "id": "BrnU6avR0LIx",
        "colab_type": "code",
        "colab": {}
      },
      "source": [
        "for name in os.listdir(KNOWN_FACES_DIR):\n",
        "\n",
        "  image = face_recognition.load_image_file(f'{KNOWN_FACES_DIR}/{name}')"
      ],
      "execution_count": 11,
      "outputs": []
    },
    {
      "cell_type": "code",
      "metadata": {
        "id": "bhgsRaMw0iCC",
        "colab_type": "code",
        "colab": {}
      },
      "source": [
        "for name in os.listdir(KNOWN_FACES_DIR):\n",
        "\n",
        "    # Next we load every file of faces of known person\n",
        "    for filename in os.listdir(f'{KNOWN_FACES_DIR}'):\n",
        "\n",
        "        # Load an image\n",
        "        image = face_recognition.load_image_file(f'{KNOWN_FACES_DIR}/{name}')\n",
        "\n",
        "        # Get 128-dimension face encoding\n",
        "        # Always returns a list of found faces, for this purpose we take first face only (assuming one face per image as you can't be twice on one image)\n",
        "        encoding = face_recognition.face_encodings(image)\n",
        "\n",
        "        # Append encodings and name\n",
        "        known_faces.append(encoding)\n",
        "        known_names.append(name)"
      ],
      "execution_count": 15,
      "outputs": []
    },
    {
      "cell_type": "code",
      "metadata": {
        "id": "35aqeX8T04Pm",
        "colab_type": "code",
        "colab": {}
      },
      "source": [
        "print(\"Loading Unknown Faces\")\n",
        "# Now let's loop over a folder of faces we want to label\n",
        "for filename in os.listdir(UNKNOWN_FACES_DIR):\n",
        "\n",
        "    # Load image\n",
        "    print(f'Filename {filename}', end='')\n",
        "    image = face_recognition.load_image_file(f'{UNKNOWN_FACES_DIR}/{filename}')\n",
        "    locations = face_recognition.face_locations(image, model=MODEL)\n",
        "    encodings = face_recognition.face_encodings(image, locations)\n",
        "    image = cv2.cvtColor(image, cv2.COLOR_RGB2BGR)\n",
        "    # But this time we assume that there might be more faces in an image - we can find faces of dirrerent people\n",
        "    print(f', found {len(encodings)} face(s)')\n",
        "    for face_encoding, face_location in zip(encodings, locations):\n",
        "\n",
        "        # We use compare_faces (but might use face_distance as well)\n",
        "        # Returns array of True/False values in order of passed known_faces\n",
        "        results = face_recognition.compare_faces(known_faces, face_encoding, TOLERANCE)\n",
        "        print(results)\n",
        "        match = known_names[results.index(True)]\n",
        "        print(match)\n",
        "        if True in results:  # If at least one is true, get a name of first of found labels\n",
        "            match = known_names[results.index(True)]\n",
        "            print(f' - {match} from {results}')\n",
        "\n",
        "            # Each location contains positions in order: top, right, bottom, left\n",
        "            top_left = (face_location[3], face_location[0])\n",
        "            bottom_right = (face_location[1], face_location[2])\n",
        "\n",
        "            # Get color by name using our fancy function\n",
        "            color = name_to_color(match)\n",
        "\n",
        "            # Paint frame\n",
        "            cv2.rectangle(image, top_left, bottom_right, color, FRAME_THICKNESS)\n",
        "\n",
        "            # Now we need smaller, filled grame below for a name\n",
        "            # This time we use bottom in both corners - to start from bottom and move 50 pixels down\n",
        "            top_left = (face_location[3], face_location[2])\n",
        "            bottom_right = (face_location[1], face_location[2] + 22)\n",
        "\n",
        "            # Paint frame\n",
        "            cv2.rectangle(image, top_left, bottom_right, color, cv2.FILLED)\n",
        "\n",
        "            # Wite a name\n",
        "            cv2.putText(image, match, (face_location[3] + 10, face_location[2] + 15), cv2.FONT_HERSHEY_SIMPLEX, 0.5, (200, 200, 200), FONT_THICKNESS)\n"
      ],
      "execution_count": null,
      "outputs": []
    },
    {
      "cell_type": "code",
      "metadata": {
        "id": "d95nUGDY1iCI",
        "colab_type": "code",
        "colab": {}
      },
      "source": [
        ""
      ],
      "execution_count": null,
      "outputs": []
    }
  ]
}